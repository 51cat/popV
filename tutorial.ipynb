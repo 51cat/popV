{
  "cells": [
    {
      "attachments": {},
      "cell_type": "markdown",
      "id": "e0bca785",
      "metadata": {},
      "source": [
        "# Using Tabula Sapiens as a reference for annotating new datasets"
      ]
    },
    {
      "attachments": {},
      "cell_type": "markdown",
      "id": "e01a8a33-3e2f-4cce-b159-73a448e1d712",
      "metadata": {
        "id": "e01a8a33-3e2f-4cce-b159-73a448e1d712"
      },
      "source": [
        "This notebook allows you to annotate your data with a number of annotation methods using the Tabula Sapiens dataset as the reference. \n",
        "\n",
        "Initial setup: \n",
        "1. Make sure GPU is enabled (Runtime -> Change Runtime Type -> Hardware Accelerator -> GPU)\n",
        "2. We also highly recommend getting Colab PRO for access to a high ram session.\n",
        "\n",
        "\n",
        "Integration Methods Provided:\n",
        "- scVI [(Lopez et al. 2018)](https://www.nature.com/articles/s41592-018-0229-2)\n",
        "- bbKNN [(Polański et al. 2020)](https://academic.oup.com/bioinformatics/article/36/3/964/5545955)\n",
        "- Scanorama [(He et al. 2019)](https://www.nature.com/articles/s41587-019-0113-3)\n",
        "\n",
        "Annotation Methods:\n",
        "- KNN on integrated spaces\n",
        "- scANVI [(Xu et al. 2021)](https://www.embopress.org/doi/full/10.15252/msb.20209620)\n",
        "- onClass [(Wang et al. 2020)](https://www.biorxiv.org/content/10.1101/810234v2)\n",
        "- SVM \n",
        "- RandomForest\n",
        "\n",
        "To use the notebook, simply connect to your Google Drive account, set the necessary arguments, select your methods, and run all the code blocks!\n",
        "\n",
        "**User action is only required in Steps 1-3.**\n",
        "\n",
        "Last edited: 6/27/2021\n",
        "\n"
      ]
    },
    {
      "cell_type": "markdown",
      "id": "45661f72-94d4-47b3-b941-53a2e8bab666",
      "metadata": {
        "id": "45661f72-94d4-47b3-b941-53a2e8bab666"
      },
      "source": [
        "## Step 1: Setup environment\n",
        "\n",
        "We omit the output of those lines for readability."
      ]
    },
    {
      "cell_type": "code",
      "execution_count": 1,
      "id": "h41Q6U5wMwyP",
      "metadata": {
        "id": "h41Q6U5wMwyP"
      },
      "outputs": [],
      "source": [
        "%%capture\n",
        "!git clone --quiet https://github.com/czbiohub/PopV.git"
      ]
    },
    {
      "cell_type": "markdown",
      "id": "MlQ3oQoRtd1C",
      "metadata": {
        "id": "MlQ3oQoRtd1C"
      },
      "source": [
        "# Restart the Runtime after installation (User Action Required)\n",
        "\n",
        "Runtime -> \"Restart runtime\""
      ]
    },
    {
      "cell_type": "code",
      "execution_count": 2,
      "id": "935b37ea-29ee-4134-b793-fb1be48d1156",
      "metadata": {
        "id": "935b37ea-29ee-4134-b793-fb1be48d1156"
      },
      "outputs": [
        {
          "name": "stderr",
          "output_type": "stream",
          "text": [
            "2023-01-16 16:50:44.480053: I tensorflow/core/platform/cpu_feature_guard.cc:193] This TensorFlow binary is optimized with oneAPI Deep Neural Network Library (oneDNN) to use the following CPU instructions in performance-critical operations:  AVX2 AVX512F FMA\n",
            "To enable them in other operations, rebuild TensorFlow with the appropriate compiler flags.\n",
            "2023-01-16 16:50:52.782816: W tensorflow/compiler/xla/stream_executor/platform/default/dso_loader.cc:64] Could not load dynamic library 'libnvinfer.so.7'; dlerror: libnvinfer.so.7: cannot open shared object file: No such file or directory\n",
            "2023-01-16 16:50:52.783547: W tensorflow/compiler/xla/stream_executor/platform/default/dso_loader.cc:64] Could not load dynamic library 'libnvinfer_plugin.so.7'; dlerror: libnvinfer_plugin.so.7: cannot open shared object file: No such file or directory\n",
            "2023-01-16 16:50:52.783564: W tensorflow/compiler/tf2tensorrt/utils/py_utils.cc:38] TF-TRT Warning: Cannot dlopen some TensorRT libraries. If you would like to use Nvidia GPU with TensorRT, please make sure the missing libraries mentioned above are installed properly.\n"
          ]
        }
      ],
      "source": [
        "%%capture\n",
        "# Restart the runtime before running this cell\n",
        "import anndata\n",
        "import popv\n",
        "import numpy as np\n",
        "import scanpy as sc\n",
        "import os"
      ]
    },
    {
      "cell_type": "markdown",
      "id": "9039153f-9c09-4486-a5b0-fec6c733bf8e",
      "metadata": {
        "id": "9039153f-9c09-4486-a5b0-fec6c733bf8e"
      },
      "source": [
        "# Step 2: Load your data (User Action Required)\n",
        "Here we provide three options to load your data:\n",
        "1. Connect to Google Drive (highly recommended)\n",
        "2. Download your data from the cloud and save into this session or on Google drive.\n",
        "3. Upload your data manually into this session (files are not persistent and will be deleted when session is closed)\n",
        "\n",
        "As an example, we use a subsampled version of the [Lung Cell Atlas](https://hlca.ds.czbiohub.org/) \\[1] for our query data.\n",
        "\n",
        "\\[1] Travaglini, K. et al. A molecular cell atlas of the human lung from single-cell RNA sequencing. *Nature* **587**, 619–625(2020)."
      ]
    },
    {
      "cell_type": "code",
      "execution_count": 4,
      "id": "lkm3ELAfV8-D",
      "metadata": {
        "id": "lkm3ELAfV8-D"
      },
      "outputs": [
        {
          "name": "stdout",
          "output_type": "stream",
          "text": [
            "downloading\n",
            "--2023-01-16 17:57:45--  https://www.dropbox.com/s/mrf8y7emfupo4he/LCA.h5ad?dl=1\n",
            "Resolving www.dropbox.com (www.dropbox.com)... 162.125.7.18, 2620:100:6017:18::a27d:212\n",
            "Connecting to www.dropbox.com (www.dropbox.com)|162.125.7.18|:443... connected.\n",
            "HTTP request sent, awaiting response... 302 Found\n",
            "Location: /s/dl/mrf8y7emfupo4he/LCA.h5ad [following]\n",
            "--2023-01-16 17:57:45--  https://www.dropbox.com/s/dl/mrf8y7emfupo4he/LCA.h5ad\n",
            "Reusing existing connection to www.dropbox.com:443.\n",
            "HTTP request sent, awaiting response... 302 Found\n",
            "Location: https://uc8931b8e28d0524904bc6ba27f2.dl.dropboxusercontent.com/cd/0/get/B0uWas78XI7JIRwUXUsRRViaut37kp1PZDUgt5M1ObGgnx84qHChwbLpTsxKHFkBPzcPSepki-cCb5clKNkg8KsNqxaXmyHvhp9py8XF42e9h0GQCdflettnvEevD4QDcrwS9WWUygU01rCRdmEsBs3-JgUDN-wGum2YTOctE40ikZhsIB3ln00Tc7p68Ft2AP0/file?dl=1# [following]\n",
            "--2023-01-16 17:57:46--  https://uc8931b8e28d0524904bc6ba27f2.dl.dropboxusercontent.com/cd/0/get/B0uWas78XI7JIRwUXUsRRViaut37kp1PZDUgt5M1ObGgnx84qHChwbLpTsxKHFkBPzcPSepki-cCb5clKNkg8KsNqxaXmyHvhp9py8XF42e9h0GQCdflettnvEevD4QDcrwS9WWUygU01rCRdmEsBs3-JgUDN-wGum2YTOctE40ikZhsIB3ln00Tc7p68Ft2AP0/file?dl=1\n",
            "Resolving uc8931b8e28d0524904bc6ba27f2.dl.dropboxusercontent.com (uc8931b8e28d0524904bc6ba27f2.dl.dropboxusercontent.com)... 162.125.7.15, 2620:100:6017:15::a27d:20f\n",
            "Connecting to uc8931b8e28d0524904bc6ba27f2.dl.dropboxusercontent.com (uc8931b8e28d0524904bc6ba27f2.dl.dropboxusercontent.com)|162.125.7.15|:443... connected.\n",
            "HTTP request sent, awaiting response... 200 OK\n",
            "Length: 354684075 (338M) [application/binary]\n",
            "Saving to: ‘LCA.h5ad’\n",
            "\n",
            "LCA.h5ad            100%[===================>] 338.25M  90.0MB/s    in 4.2s    \n",
            "\n",
            "2023-01-16 17:57:51 (79.9 MB/s) - ‘LCA.h5ad’ saved [354684075/354684075]\n",
            "\n"
          ]
        }
      ],
      "source": [
        "input_file ={'source': 'wget', 'path': 'LCA.h5ad', 'link': 'https://www.dropbox.com/s/mrf8y7emfupo4he/LCA.h5ad?dl=1'}\n",
        "\n",
        "if input_file['source']== 'gdrive':\n",
        "  # OPTION 1: Connect to Google Drive\n",
        "  # This is the recomended method especially for large datasets\n",
        "  from google.colab import drive    \n",
        "  drive.mount('/content/drive')\n",
        "  query_adata = anndata.read(input_file['path'])\n",
        "elif input_file['source'] == \"folder\":\n",
        "  # OPTION 2: Uploading data manually\n",
        "  # Click the folder icon on the left navigation bar, and select the upload icon\n",
        "  # Note: Manually uploaded data is automatically deleted when the colab session ends\n",
        "  # This is not recommended if your dataset is very large\n",
        "  query_adata = anndata.read(input_file['path'])\n",
        "else:\n",
        "  # OPTION 3: Downloading from the cloud (Dropbox, AWS, Google Drive, etc)\n",
        "  # Google Colab supports wget, curl, and gdown commands\n",
        "  # It is recommended to download the data into Google Drive and read from there.\n",
        "  # This way your data will be persistent.\n",
        "  print('downloading')\n",
        "  try:\n",
        "    !wget -O {input_file['path']} {input_file['link']}\n",
        "    query_adata = anndata.read(input_file['path'])\n",
        "  except:\n",
        "    raise Exception(f'Default download failed with wget. Use custom downloader or check provided link ' + input_file['link'])\n",
        "    \n",
        "\n",
        "query_adata.obs_names_make_unique()\n",
        "query_adata.var_names = query_adata.var_names.str.upper()"
      ]
    },
    {
      "cell_type": "code",
      "execution_count": 5,
      "id": "aaacac24",
      "metadata": {},
      "outputs": [],
      "source": [
        "query_adata = sc.read('LCA.h5ad')\n",
        "    \n",
        "query_adata.obs_names_make_unique()\n",
        "query_adata.var_names = query_adata.var_names.str.upper()"
      ]
    },
    {
      "cell_type": "markdown",
      "id": "eQwL4OPPu-o7",
      "metadata": {
        "id": "eQwL4OPPu-o7"
      },
      "source": [
        "# Step 3 (User Action Required): Setting Up Annotation Parameters \n",
        "\n",
        "Here is where you set the parameters for the automated annotation.\n",
        "\n",
        "Arguments:\n",
        "- **tissue:** Tabula Sapiens tissue to annotate your data with. Available tissues: [\"Bladder\", \"Blood\", \"Bone_Marrow\", \"Kidney\", \"Large_Intestine\", \"Lung\",\"Lymph_Node\", \"Pancreas\", \"Small_Intestine\", \"Spleen\", \"Thymus\",\"Trachea\", \"Vasculature\"]\n",
        "- **save_location:** location to save results to. By default will save to a folder named `annotation_results`. It is highly recommended you provide a Google Drive folder here.\n",
        "- **query_batch_key:** key in `query_adata.obs` for batch correction. Set to None for no batch correction. \n",
        "- **algorithms:** these are the methods to run. By default, will run all methods.\n",
        "\n",
        "\n",
        "Lesser used parameters\n",
        "- **query_labels_key**: scANVI has the option to use labeled cells in the query dataset during training. To use some prelabeled cells from the query dataset, set `query_labels_key` to the corresponding key in `query_adata.obs`\n",
        "- **unknown_celltype_label**: If `query_labels_key` is not None, will treat everything not labeled `unknown_celltype_label` as a labeled cell"
      ]
    },
    {
      "cell_type": "code",
      "execution_count": 6,
      "id": "RBolKuGDvP0Z",
      "metadata": {
        "id": "RBolKuGDvP0Z"
      },
      "outputs": [],
      "source": [
        "\"\"\" \n",
        "tissue options: \n",
        "['Bladder','Blood','Bone_Marrow','Fat',\n",
        "'Heart','Kidney','Large_Intestine','Liver',\n",
        "'Lung','Lymph_Node','Mammary','Muscle',\n",
        "'Pancreas','Prostate','Salivary Gland',\n",
        "'Skin','Small_Intestine','Spleen',\n",
        "'Thymus','Trachea','Vasculature']\n",
        "\"\"\"\n",
        "tissue = 'Lung'\n",
        "save_folder = 'popv_results'\n",
        "\n",
        "query_batch_key = 'donor_method'\n",
        "algorithms = [\n",
        "    \"knn_on_scvi_pred\",\n",
        "    \"scanvi_pred\",\n",
        "    \"knn_on_bbknn_pred\",\n",
        "    \"svm_pred\",\n",
        "    \"rf_pred\",\n",
        "    \"onclass_pred\",\n",
        "    \"knn_on_scanorama_pred\",\n",
        "]\n",
        "\n",
        "# Lesser used parameters\n",
        "query_labels_key=None\n",
        "unknown_celltype_label='unknown'"
      ]
    },
    {
      "cell_type": "markdown",
      "id": "ffB8B0dUceGb",
      "metadata": {
        "id": "ffB8B0dUceGb"
      },
      "source": [
        "# Step 4: Downloading Reference Data and Pretrained Models\n",
        "No more user input required! Just run all the following code blocks.\n",
        "\n",
        "**NOTE: PopV has only been evaluated with the Lung as a reference dataset. Other tissue results may vary depending on annotation quality**"
      ]
    },
    {
      "cell_type": "code",
      "execution_count": 7,
      "id": "Zty7C8HAZwwr",
      "metadata": {
        "id": "Zty7C8HAZwwr"
      },
      "outputs": [
        {
          "name": "stdout",
          "output_type": "stream",
          "text": [
            "--2023-01-16 17:58:34--  https://www.dropbox.com/s/2kuzdamjevev2ci/Lung.h5ad\n",
            "Resolving www.dropbox.com (www.dropbox.com)... 162.125.7.18, 2620:100:6017:18::a27d:212\n",
            "Connecting to www.dropbox.com (www.dropbox.com)|162.125.7.18|:443... connected.\n",
            "HTTP request sent, awaiting response... 302 Found\n",
            "Location: /s/raw/2kuzdamjevev2ci/Lung.h5ad [following]\n",
            "--2023-01-16 17:58:34--  https://www.dropbox.com/s/raw/2kuzdamjevev2ci/Lung.h5ad\n",
            "Reusing existing connection to www.dropbox.com:443.\n",
            "HTTP request sent, awaiting response... 302 Found\n",
            "Location: https://uc579d98f53300a836db82a78797.dl.dropboxusercontent.com/cd/0/inline/B0twXq00wnT71EP_5NmnjOgssl9qaQ4IH5kxIrFgS5Z_SPHLerQvtSHNdz5ZtVzrs05Wkq2qr9SaqVAB7e0kmA4gzKniDw1hfTL8kpJ73al-RFiW0EeyhKnysPKD65YxhAvGeEjdMQ-KIT90SfSiTBb6oInTQ_wypOwttoi6yD-2Ww/file# [following]\n",
            "--2023-01-16 17:58:35--  https://uc579d98f53300a836db82a78797.dl.dropboxusercontent.com/cd/0/inline/B0twXq00wnT71EP_5NmnjOgssl9qaQ4IH5kxIrFgS5Z_SPHLerQvtSHNdz5ZtVzrs05Wkq2qr9SaqVAB7e0kmA4gzKniDw1hfTL8kpJ73al-RFiW0EeyhKnysPKD65YxhAvGeEjdMQ-KIT90SfSiTBb6oInTQ_wypOwttoi6yD-2Ww/file\n",
            "Resolving uc579d98f53300a836db82a78797.dl.dropboxusercontent.com (uc579d98f53300a836db82a78797.dl.dropboxusercontent.com)... 162.125.7.15, 2620:100:6017:15::a27d:20f\n",
            "Connecting to uc579d98f53300a836db82a78797.dl.dropboxusercontent.com (uc579d98f53300a836db82a78797.dl.dropboxusercontent.com)|162.125.7.15|:443... connected.\n",
            "HTTP request sent, awaiting response... 302 Found\n",
            "Location: /cd/0/inline2/B0vyGkZ43mKwN1v667yjhDAfUhQhLOqQtxDyh4UnsMe6pfDkU04LLtldCt0qPSV3Sbp0sG7DgwlzOSif-6htFh5p_-dM7MELd0oab-kTSma1PnGB1LBY6BNeMHhE5wl3Mfp_km-3XxeQ8KXpPLhlUVIUMJ2Ejh2Nfiw8HiMRZucJRkvVY6sjs3YafufMvK4IoVMFYFVCClscAC7JkwCP3MxgRehrAFB10rQt-zz1i2qRY7Tsdn5i7J4GsRPD1w9qh7Cykp2AsTHSppwibi8aMk32lDZ4Vqi5S2k0IIsV6b2F2BKLg8DN_DI106PbKgk6Ighu7qoAAxOv6slUR1zWRVTtjx9U4AjITPnX9SjfSlKfoVr85u5iKB_WUD-kwG_5eTA81VbnznEJ8qrwOzmc2ieRQlSL8434Z1-Rkjl8BR4Jog/file [following]\n",
            "--2023-01-16 17:58:35--  https://uc579d98f53300a836db82a78797.dl.dropboxusercontent.com/cd/0/inline2/B0vyGkZ43mKwN1v667yjhDAfUhQhLOqQtxDyh4UnsMe6pfDkU04LLtldCt0qPSV3Sbp0sG7DgwlzOSif-6htFh5p_-dM7MELd0oab-kTSma1PnGB1LBY6BNeMHhE5wl3Mfp_km-3XxeQ8KXpPLhlUVIUMJ2Ejh2Nfiw8HiMRZucJRkvVY6sjs3YafufMvK4IoVMFYFVCClscAC7JkwCP3MxgRehrAFB10rQt-zz1i2qRY7Tsdn5i7J4GsRPD1w9qh7Cykp2AsTHSppwibi8aMk32lDZ4Vqi5S2k0IIsV6b2F2BKLg8DN_DI106PbKgk6Ighu7qoAAxOv6slUR1zWRVTtjx9U4AjITPnX9SjfSlKfoVr85u5iKB_WUD-kwG_5eTA81VbnznEJ8qrwOzmc2ieRQlSL8434Z1-Rkjl8BR4Jog/file\n",
            "Reusing existing connection to uc579d98f53300a836db82a78797.dl.dropboxusercontent.com:443.\n",
            "HTTP request sent, awaiting response... 200 OK\n",
            "Length: 1980521622 (1.8G) [application/octet-stream]\n",
            "Saving to: ‘TS_Lung.h5ad’\n",
            "\n",
            "TS_Lung.h5ad        100%[===================>]   1.84G  76.1MB/s    in 23s     \n",
            "\n",
            "2023-01-16 17:58:59 (82.2 MB/s) - ‘TS_Lung.h5ad’ saved [1980521622/1980521622]\n",
            "\n",
            "--2023-01-16 17:59:27--  https://www.dropbox.com/s/katva5lqs74w0cs/Lung_pretrained_ts.tar.gz\n",
            "Resolving www.dropbox.com (www.dropbox.com)... 162.125.7.18, 2620:100:6017:18::a27d:212\n",
            "Connecting to www.dropbox.com (www.dropbox.com)|162.125.7.18|:443... connected.\n",
            "HTTP request sent, awaiting response... 302 Found\n",
            "Location: /s/raw/katva5lqs74w0cs/Lung_pretrained_ts.tar.gz [following]\n",
            "--2023-01-16 17:59:27--  https://www.dropbox.com/s/raw/katva5lqs74w0cs/Lung_pretrained_ts.tar.gz\n",
            "Reusing existing connection to www.dropbox.com:443.\n",
            "HTTP request sent, awaiting response... 302 Found\n",
            "Location: https://uc2469570d8a169d3d4e7be77f96.dl.dropboxusercontent.com/cd/0/inline/B0uGXKtwHpnz1UAQCxeeCHgwLqKUdIghdrTmBt02x0pLTA1QoVNoCf_6hrk9vqmROoIn4jVYhNbfTqEo6Z3xUHBTrYjBqYeOnHdHp4EVSsFiEHs9l4Z7p97ij96S3ju8zKtYYjZO0pAcAE__OuKn-2S7jY0E--7BZHbfhJJ7EjEEkQ/file# [following]\n",
            "--2023-01-16 17:59:28--  https://uc2469570d8a169d3d4e7be77f96.dl.dropboxusercontent.com/cd/0/inline/B0uGXKtwHpnz1UAQCxeeCHgwLqKUdIghdrTmBt02x0pLTA1QoVNoCf_6hrk9vqmROoIn4jVYhNbfTqEo6Z3xUHBTrYjBqYeOnHdHp4EVSsFiEHs9l4Z7p97ij96S3ju8zKtYYjZO0pAcAE__OuKn-2S7jY0E--7BZHbfhJJ7EjEEkQ/file\n",
            "Resolving uc2469570d8a169d3d4e7be77f96.dl.dropboxusercontent.com (uc2469570d8a169d3d4e7be77f96.dl.dropboxusercontent.com)... 162.125.7.15, 2620:100:6017:15::a27d:20f\n",
            "Connecting to uc2469570d8a169d3d4e7be77f96.dl.dropboxusercontent.com (uc2469570d8a169d3d4e7be77f96.dl.dropboxusercontent.com)|162.125.7.15|:443... connected.\n",
            "HTTP request sent, awaiting response... 302 Found\n",
            "Location: /cd/0/inline2/B0uXar3afplfPWQ-C4wVxdmysE1reztMX6i4n5pwhhll77L9I3Sh4c9wl5ji8OBG4gYH-MCfj8jta7RbPOurfvOMs5hFvpVF47Q_2Sgx2RyqUY9mYduU4EMf9g57ibh6Yz93vjtV65ivwkOeOj3EUCqXgGa0MLGtYWsqxbZJYQDjlxQYhw2-rb4FtpxJASm0Ou75bJf_UhsqH3mCV4RnD0fycGX5jbW9GLGU7i-XxYqNHub9jwjrdPqgLgIH6krojDTOlLeyCoNwXRq0XEaMr18jREzgZ3QHzSUHVdpRy1bNYGAWNY0o8T0Lye8M9OY8q5GOQsISnEBxw_eqDnV83MQ_rHsYcQrW1DPm2BWx_NtPyK74tNBCNiqjQg1Ar3-5MlfcLsgEJpH3yv4rU89eOrlassWR_IQwk9hD4QMVWDe-Ag/file [following]\n",
            "--2023-01-16 17:59:28--  https://uc2469570d8a169d3d4e7be77f96.dl.dropboxusercontent.com/cd/0/inline2/B0uXar3afplfPWQ-C4wVxdmysE1reztMX6i4n5pwhhll77L9I3Sh4c9wl5ji8OBG4gYH-MCfj8jta7RbPOurfvOMs5hFvpVF47Q_2Sgx2RyqUY9mYduU4EMf9g57ibh6Yz93vjtV65ivwkOeOj3EUCqXgGa0MLGtYWsqxbZJYQDjlxQYhw2-rb4FtpxJASm0Ou75bJf_UhsqH3mCV4RnD0fycGX5jbW9GLGU7i-XxYqNHub9jwjrdPqgLgIH6krojDTOlLeyCoNwXRq0XEaMr18jREzgZ3QHzSUHVdpRy1bNYGAWNY0o8T0Lye8M9OY8q5GOQsISnEBxw_eqDnV83MQ_rHsYcQrW1DPm2BWx_NtPyK74tNBCNiqjQg1Ar3-5MlfcLsgEJpH3yv4rU89eOrlassWR_IQwk9hD4QMVWDe-Ag/file\n",
            "Reusing existing connection to uc2469570d8a169d3d4e7be77f96.dl.dropboxusercontent.com:443.\n",
            "HTTP request sent, awaiting response... 200 OK\n",
            "Length: 119877149 (114M) [application/octet-stream]\n",
            "Saving to: ‘Lung.tar.gz’\n",
            "\n",
            "Lung.tar.gz         100%[===================>] 114.32M  52.0MB/s    in 2.2s    \n",
            "\n",
            "2023-01-16 17:59:31 (52.0 MB/s) - ‘Lung.tar.gz’ saved [119877149/119877149]\n",
            "\n",
            "Lung_pretrained_scanvi/\n",
            "Lung_pretrained_scanvi/adata.h5ad\n",
            "Lung_pretrained_scanvi/model.pt\n",
            "Lung_pretrained_scvi/\n",
            "Lung_pretrained_scvi/adata.h5ad\n",
            "Lung_pretrained_scvi/model.pt\n"
          ]
        }
      ],
      "source": [
        "# Here we download the necessary data:\n",
        "if tissue == 'Bladder':\n",
        "  refdata_url = 'https://www.dropbox.com/s/p5x1lb0jyl8293c/Bladder.h5ad'\n",
        "  pretrained_url='https://www.dropbox.com/s/2a4cp7d0krp0dxg/Bladder_pretrained_ts.tar.gz'\n",
        "elif tissue == 'Blood':\n",
        "  refdata_url = 'https://www.dropbox.com/s/4cg6zj340oelhlg/Blood.h5ad'\n",
        "  pretrained_url = 'https://www.dropbox.com/s/ls52js43fy7hipf/Blood_pretrained_ts.tar.gz'\n",
        "elif tissue == 'Bone_Marrow':\n",
        "  refdata_url = 'https://www.dropbox.com/s/rwfovoyafpd64io/Bone_Marrow.h5ad'\n",
        "  pretrained_url = 'https://www.dropbox.com/s/wljt0c7c11ng2jk/Bone_Marrow_pretrained_ts.tar.gz'\n",
        "elif tissue == 'Fat':\n",
        "  refdata_url = 'https://www.dropbox.com/s/if1d7iloovi8e9o/Fat.h5ad'\n",
        "  pretrained_url = 'https://www.dropbox.com/s/vuvz1cotuc3wgpr/Fat_pretrained_ts.tar.gz'\n",
        "elif tissue == 'Heart':\n",
        "  refdata_url = 'https://www.dropbox.com/s/0udrdzjl2z087jj/Heart.h5ad'\n",
        "  pretrained_url = 'https://www.dropbox.com/s/5u228dl65stima3/Heart_pretrained_ts.tar.gz'\n",
        "elif tissue == 'Kidney':\n",
        "  refdata_url = 'https://www.dropbox.com/s/8sx9fhjfgnyjgdz/Kidney.h5ad'\n",
        "  pretrained_url = 'https://www.dropbox.com/s/8y30r0rjmwo8jjw/Kidney_pretrained_ts.tar.gz'\n",
        "elif tissue == 'Large_Intestine':\n",
        "  refdata_url = 'https://www.dropbox.com/s/272sajn0hkj62le/Large_Intestine.h5ad'\n",
        "  pretrained_url = 'https://www.dropbox.com/s/rta6qfbor7gjagh/Large_Intestine_pretrained_ts.tar.gz'\n",
        "elif tissue == 'Liver':\n",
        "  refdata_url = 'https://www.dropbox.com/s/g0ahumalnm0mp38/Liver.h5ad'\n",
        "  pretrained_url = 'https://www.dropbox.com/s/u9c7dohzced6335/Liver_pretrained_ts.tar.gz'\n",
        "elif tissue == 'Lung':\n",
        "  refdata_url = 'https://www.dropbox.com/s/2kuzdamjevev2ci/Lung.h5ad'\n",
        "  pretrained_url = 'https://www.dropbox.com/s/katva5lqs74w0cs/Lung_pretrained_ts.tar.gz'\n",
        "elif tissue == 'Lymph_Node':\n",
        "  refdata_url = 'https://www.dropbox.com/s/tetuh62010uothb/Lymph_Node.h5ad'\n",
        "  pretrained_url = 'https://www.dropbox.com/s/hddr9xkocg1a5ws/Lymph_Node_pretrained_ts.tar.gz'\n",
        "elif tissue == 'Mammary':\n",
        "  refdata_url = 'https://www.dropbox.com/s/krm4pv4ev6cynns/Mammary.h5ad'\n",
        "  pretrained_url = 'https://www.dropbox.com/s/6keoifasne094z9/Mammary_pretrained_ts.tar.gz'\n",
        "elif tissue == 'Muscle':\n",
        "  refdata_url = 'https://www.dropbox.com/s/0jhvnoy49rvrlqn/Muscle.h5ad'\n",
        "  pretrained_url = 'https://www.dropbox.com/s/o0po7i5tozewks4/Muscle_pretrained_ts.tar.gz'\n",
        "elif tissue == 'Pancreas':\n",
        "  refdata_url = 'https://www.dropbox.com/s/kn0zodnmxwx0yhe/Pancreas.h5ad'\n",
        "  pretrained_url = 'https://www.dropbox.com/s/c4u1klyg91p2ufm/Pancreas_pretrained_ts.tar.gz'\n",
        "elif tissue == 'Prostate':\n",
        "  refdata_url = 'https://www.dropbox.com/s/040fb5jr0zcur7h/Prostate.h5ad'\n",
        "  pretrained_url = 'https://www.dropbox.com/s/g8epczuui1qi80k/Prostate_pretrained_ts.tar.gz'\n",
        "elif tissue == 'Salivary_Gland':\n",
        "  refdata_url = 'https://www.dropbox.com/s/rwia1ji7eztga6b/Salivary_Gland.h5ad'\n",
        "  pretrained_url = 'https://www.dropbox.com/s/ijwxj3zh3z8gryg/Salivary_Gland_pretrained_ts.tar.gz'\n",
        "elif tissue == 'Skin':\n",
        "  refdata_url = 'https://www.dropbox.com/s/ucvdksq2jnug2nh/Skin.h5ad'\n",
        "  pretrained_url = 'https://www.dropbox.com/s/1jrcmpyqvl409ps/Skin_pretrained_ts.tar.gz'\n",
        "elif tissue == 'Small_Intestine':\n",
        "  refdata_url = 'https://www.dropbox.com/s/06ia5n2yex3dq8j/Small_Intestine.h5ad'\n",
        "  pretrained_url = 'https://www.dropbox.com/s/xj990wl2b9gka52/Small_Intestine_pretrained_ts.tar.gz'\n",
        "elif tissue == 'Spleen':\n",
        "  refdata_url = 'https://www.dropbox.com/s/m2d0gme847qdhr1/Spleen.h5ad'\n",
        "  pretrained_url = 'https://www.dropbox.com/s/cs1xf6w6f4xxfte/Spleen_pretrained_ts.tar.gz'\n",
        "elif tissue == 'Thymus':\n",
        "  refdata_url = 'https://www.dropbox.com/s/i84bcyk87scesml/Thymus.h5ad'\n",
        "  pretrained_url='https://www.dropbox.com/s/fvtlagw5q89mirk/Thymus_pretrained_ts.tar.gz'\n",
        "elif tissue == 'Trachea':\n",
        "  refdata_url = 'https://www.dropbox.com/s/ppt7b6w73gvceap/Trachea.h5ad'\n",
        "  pretrained_url = 'https://www.dropbox.com/s/bwkds6e46id2b0b/Trachea_pretrained_ts.tar.gz'\n",
        "elif tissue == 'Vasculature':\n",
        "  refdata_url = 'https://www.dropbox.com/s/1eq0zamel5etmoq/Vasculature.h5ad'\n",
        "  pretrained_url='https://www.dropbox.com/s/uvakps392265wt4/Vasculature_pretrained_ts.tar.gz'\n",
        "\n",
        "# Download reference dataset\n",
        "output_fn = 'TS_{}.h5ad'.format(tissue)\n",
        "!wget -O $output_fn $refdata_url\n",
        "\n",
        "# Download pretrained scVI and scANVI models.\n",
        "output_fn = '{}.tar.gz'.format(tissue)\n",
        "if not os.path.exists('pretrained_models'):\n",
        "   os.makedirs('pretrained_models')\n",
        "!wget -O $output_fn $pretrained_url\n",
        "!tar -C pretrained_models -xvzf $output_fn"
      ]
    },
    {
      "cell_type": "code",
      "execution_count": 8,
      "id": "iHs1EYLwdBsC",
      "metadata": {
        "id": "iHs1EYLwdBsC"
      },
      "outputs": [],
      "source": [
        "# read in the reference dataset\n",
        "ref_adata_path = 'TS_{}.h5ad'.format(tissue)\n",
        "ref_adata = anndata.read(ref_adata_path)"
      ]
    },
    {
      "cell_type": "markdown",
      "id": "6a830cd8-b897-498c-b3f8-1dddff8e5aa8",
      "metadata": {
        "id": "6a830cd8-b897-498c-b3f8-1dddff8e5aa8"
      },
      "source": [
        "### Setup reference data"
      ]
    },
    {
      "cell_type": "code",
      "execution_count": 9,
      "id": "33ad9aa6-271f-425b-ba5b-8f554001b0c0",
      "metadata": {
        "id": "33ad9aa6-271f-425b-ba5b-8f554001b0c0"
      },
      "outputs": [],
      "source": [
        "# Following parameters are specific to Tabula Sapiens dataset and contain the annotated cell-type and the batch_key that are corrected for during model training.\n",
        "ref_labels_key=\"cell_ontology_class\"\n",
        "ref_batch_key = [\"donor\", \"method\", \"10X_run\"]"
      ]
    },
    {
      "cell_type": "code",
      "execution_count": 10,
      "id": "4e54d258-a49b-430f-818c-d16a2cf068ed",
      "metadata": {
        "id": "4e54d258-a49b-430f-818c-d16a2cf068ed"
      },
      "outputs": [],
      "source": [
        "min_celltype_size = np.min(ref_adata.obs.groupby(ref_labels_key).size())\n",
        "n_samples_per_label = np.max((min_celltype_size, 500))"
      ]
    },
    {
      "cell_type": "markdown",
      "id": "JE0VJviPoxwg",
      "metadata": {
        "id": "JE0VJviPoxwg"
      },
      "source": [
        "### Check if we can use pretrained models"
      ]
    },
    {
      "cell_type": "code",
      "execution_count": 11,
      "id": "eWxJp6v40d1n",
      "metadata": {
        "id": "eWxJp6v40d1n"
      },
      "outputs": [],
      "source": [
        "pretrained_scanvi_path = None # os.path.join(\"pretrained_models\", '{}_pretrained_scanvi'.format(tissue))\n",
        "pretrained_scvi_path = None # os.path.join(\"pretrained_models\", '{}_pretrained_scvi'.format(tissue))"
      ]
    },
    {
      "cell_type": "markdown",
      "id": "de507788-dfc3-4b54-979b-f0472ac014f5",
      "metadata": {
        "id": "de507788-dfc3-4b54-979b-f0472ac014f5"
      },
      "source": [
        "### Preprocess query with ref dataset\n"
      ]
    },
    {
      "cell_type": "code",
      "execution_count": 12,
      "id": "db50776c-e9d2-4198-8b19-b0cdebd6b167",
      "metadata": {
        "id": "db50776c-e9d2-4198-8b19-b0cdebd6b167"
      },
      "outputs": [
        {
          "name": "stderr",
          "output_type": "stream",
          "text": [
            "/home/eecs/cergen/anaconda3/envs/PopV/lib/python3.8/site-packages/anndata/_core/merge.py:942: UserWarning: Only some AnnData objects have `.raw` attribute, not concatenating `.raw` attributes.\n",
            "  warn(\n"
          ]
        }
      ],
      "source": [
        "from popv.preprocessing import Process_Query\n",
        "\n",
        "adata = Process_Query(\n",
        "        query_adata,\n",
        "        ref_adata,\n",
        "        save_folder=save_folder,\n",
        "        query_batch_key=query_batch_key,\n",
        "        query_labels_key=query_labels_key,\n",
        "        ref_labels_key=ref_labels_key,\n",
        "        ref_batch_key=ref_batch_key,\n",
        "        unknown_celltype_label=unknown_celltype_label,\n",
        "        pretrained_scvi_path=pretrained_scvi_path,\n",
        "        pretrained_scanvi_path=pretrained_scanvi_path,\n",
        "        n_samples_per_label=n_samples_per_label,\n",
        "        use_gpu=True\n",
        "    ).adata"
      ]
    },
    {
      "attachments": {},
      "cell_type": "markdown",
      "id": "d6a76fef-96e7-4826-b1a7-d4dc5e4aa058",
      "metadata": {
        "id": "d6a76fef-96e7-4826-b1a7-d4dc5e4aa058"
      },
      "source": [
        "# Step 5: Run Automated Cell Annotation Methods\n",
        "No user action required. \n",
        "\n",
        "Your results will be saved to the folder you provided as **save_folder**.\n",
        "\n",
        "All results are stored in adata.obs\n",
        "- The column `popv_prediction` contains the end popv prediction. \n",
        "- `popv_prediction_score` contains the score for the popv_prediction, which is a measure of the number of methods that agreed with the resulting prediction. We use the cell ontology when aggregating results.\n",
        "- We also include the majority vote, which simply takes the celltype that was most often predicted by the individual methods."
      ]
    },
    {
      "cell_type": "code",
      "execution_count": 13,
      "id": "1e6b602d-8e13-4e1d-b31e-632a0c4a2284",
      "metadata": {
        "collapsed": true,
        "id": "1e6b602d-8e13-4e1d-b31e-632a0c4a2284"
      },
      "outputs": [
        {
          "name": "stderr",
          "output_type": "stream",
          "text": [
            "/home/eecs/cergen/anaconda3/envs/PopV/lib/python3.8/site-packages/sklearn/neighbors/_base.py:175: EfficiencyWarning: Precomputed sparse input was not sorted by data.\n",
            "  warnings.warn('Precomputed sparse input was not sorted by data.',\n",
            "/home/eecs/cergen/anaconda3/envs/PopV/lib/python3.8/site-packages/sklearn/neighbors/_classification.py:211: FutureWarning: Unlike other reduction functions (e.g. `skew`, `kurtosis`), the default behavior of `mode` typically preserves the axis it acts along. In SciPy 1.11.0, this behavior will change: the default value of `keepdims` will become False, the `axis` over which the statistic is taken will be eliminated, and the value None will no longer be accepted. Set `keepdims` to True or False to avoid this warning.\n",
            "  mode, _ = stats.mode(_y[neigh_ind, k], axis=1)\n"
          ]
        },
        {
          "name": "stdout",
          "output_type": "stream",
          "text": [
            "Found 4000 genes among all datasets\n",
            "[[0.00000000e+00 7.95084023e-02 4.60796388e-01 1.34433242e-02\n",
            "  6.87089491e-01 6.97999069e-03 2.11412151e-02 2.93577982e-02\n",
            "  9.25925926e-04 3.66972477e-03 3.48330914e-02 2.08333333e-02\n",
            "  1.33185350e-02]\n",
            " [0.00000000e+00 0.00000000e+00 7.44920993e-02 5.35288726e-01\n",
            "  7.17331327e-02 6.82177757e-01 5.66842237e-02 1.37614679e-02\n",
            "  0.00000000e+00 1.75570604e-03 4.04934688e-01 8.32706295e-02\n",
            "  2.97447281e-01]\n",
            " [0.00000000e+00 0.00000000e+00 0.00000000e+00 2.82309808e-01\n",
            "  4.17585253e-01 1.20986505e-02 1.40059157e-01 8.07339450e-02\n",
            "  6.48148148e-03 1.74311927e-02 1.72714078e-01 4.99042535e-02\n",
            "  2.10876804e-02]\n",
            " [0.00000000e+00 0.00000000e+00 0.00000000e+00 0.00000000e+00\n",
            "  2.90253590e-02 5.90041880e-01 1.06935533e-02 1.83486239e-03\n",
            "  0.00000000e+00 0.00000000e+00 4.04934688e-01 3.05530095e-03\n",
            "  9.98890122e-02]\n",
            " [0.00000000e+00 0.00000000e+00 0.00000000e+00 0.00000000e+00\n",
            "  0.00000000e+00 2.16845044e-01 2.55735870e-01 9.35779817e-02\n",
            "  1.11111111e-02 2.06422018e-02 3.94775036e-01 1.56734173e-01\n",
            "  1.05438402e-01]\n",
            " [0.00000000e+00 0.00000000e+00 0.00000000e+00 0.00000000e+00\n",
            "  0.00000000e+00 0.00000000e+00 3.76919497e-02 0.00000000e+00\n",
            "  0.00000000e+00 4.65332713e-04 4.83309144e-01 2.60586319e-02\n",
            "  2.19755827e-01]\n",
            " [0.00000000e+00 0.00000000e+00 0.00000000e+00 0.00000000e+00\n",
            "  0.00000000e+00 0.00000000e+00 0.00000000e+00 2.54128440e-01\n",
            "  2.22222222e-02 3.07339450e-02 3.59941945e-01 2.87355655e-01\n",
            "  8.10210877e-02]\n",
            " [0.00000000e+00 0.00000000e+00 0.00000000e+00 0.00000000e+00\n",
            "  0.00000000e+00 0.00000000e+00 0.00000000e+00 0.00000000e+00\n",
            "  8.19444444e-01 8.76146789e-01 2.90275762e-03 1.39449541e-01\n",
            "  1.10987791e-03]\n",
            " [0.00000000e+00 0.00000000e+00 0.00000000e+00 0.00000000e+00\n",
            "  0.00000000e+00 0.00000000e+00 0.00000000e+00 0.00000000e+00\n",
            "  0.00000000e+00 9.51851852e-01 0.00000000e+00 4.53703704e-02\n",
            "  0.00000000e+00]\n",
            " [0.00000000e+00 0.00000000e+00 0.00000000e+00 0.00000000e+00\n",
            "  0.00000000e+00 0.00000000e+00 0.00000000e+00 0.00000000e+00\n",
            "  0.00000000e+00 0.00000000e+00 2.90275762e-03 1.63302752e-01\n",
            "  2.21975583e-03]\n",
            " [0.00000000e+00 0.00000000e+00 0.00000000e+00 0.00000000e+00\n",
            "  0.00000000e+00 0.00000000e+00 0.00000000e+00 0.00000000e+00\n",
            "  0.00000000e+00 0.00000000e+00 0.00000000e+00 1.19013062e-01\n",
            "  3.45172031e-01]\n",
            " [0.00000000e+00 0.00000000e+00 0.00000000e+00 0.00000000e+00\n",
            "  0.00000000e+00 0.00000000e+00 0.00000000e+00 0.00000000e+00\n",
            "  0.00000000e+00 0.00000000e+00 0.00000000e+00 0.00000000e+00\n",
            "  5.33851276e-01]\n",
            " [0.00000000e+00 0.00000000e+00 0.00000000e+00 0.00000000e+00\n",
            "  0.00000000e+00 0.00000000e+00 0.00000000e+00 0.00000000e+00\n",
            "  0.00000000e+00 0.00000000e+00 0.00000000e+00 0.00000000e+00\n",
            "  0.00000000e+00]]\n",
            "Processing datasets (8, 9)\n",
            "Processing datasets (7, 9)\n",
            "Processing datasets (7, 8)\n",
            "Processing datasets (0, 4)\n",
            "Processing datasets (1, 5)\n",
            "Processing datasets (3, 5)\n",
            "Processing datasets (1, 3)\n",
            "Processing datasets (11, 12)\n",
            "Processing datasets (5, 10)\n",
            "Processing datasets (0, 2)\n",
            "Processing datasets (2, 4)\n",
            "Processing datasets (3, 10)\n",
            "Processing datasets (1, 10)\n",
            "Processing datasets (4, 10)\n",
            "Processing datasets (6, 10)\n",
            "Processing datasets (10, 12)\n",
            "Processing datasets (1, 12)\n",
            "Processing datasets (6, 11)\n",
            "Processing datasets (2, 3)\n",
            "Processing datasets (4, 6)\n",
            "Processing datasets (6, 7)\n",
            "Processing datasets (5, 12)\n",
            "Processing datasets (4, 5)\n",
            "Processing datasets (2, 10)\n",
            "Processing datasets (9, 11)\n",
            "Processing datasets (4, 11)\n",
            "Processing datasets (2, 6)\n",
            "Processing datasets (7, 11)\n",
            "Processing datasets (10, 11)\n",
            "Processing datasets (4, 12)\n"
          ]
        },
        {
          "name": "stderr",
          "output_type": "stream",
          "text": [
            "/home/eecs/cergen/anaconda3/envs/PopV/lib/python3.8/site-packages/sklearn/neighbors/_classification.py:211: FutureWarning: Unlike other reduction functions (e.g. `skew`, `kurtosis`), the default behavior of `mode` typically preserves the axis it acts along. In SciPy 1.11.0, this behavior will change: the default value of `keepdims` will become False, the `axis` over which the statistic is taken will be eliminated, and the value None will no longer be accepted. Set `keepdims` to True or False to avoid this warning.\n",
            "  mode, _ = stats.mode(_y[neigh_ind, k], axis=1)\n",
            "WARNING:jax._src.lib.xla_bridge:No GPU/TPU found, falling back to CPU. (Set TF_CPP_MIN_LOG_LEVEL=0 and rerun for more info.)\n"
          ]
        },
        {
          "name": "stdout",
          "output_type": "stream",
          "text": [
            "Epoch 36/36: 100%|██████████| 36/36 [08:27<00:00, 14.09s/it, loss=1.63e+03, v_num=1]\n"
          ]
        },
        {
          "name": "stderr",
          "output_type": "stream",
          "text": [
            "/home/eecs/cergen/anaconda3/envs/PopV/lib/python3.8/site-packages/sklearn/neighbors/_classification.py:211: FutureWarning: Unlike other reduction functions (e.g. `skew`, `kurtosis`), the default behavior of `mode` typically preserves the axis it acts along. In SciPy 1.11.0, this behavior will change: the default value of `keepdims` will become False, the `axis` over which the statistic is taken will be eliminated, and the value None will no longer be accepted. Set `keepdims` to True or False to avoid this warning.\n",
            "  mode, _ = stats.mode(_y[neigh_ind, k], axis=1)\n"
          ]
        },
        {
          "name": "stdout",
          "output_type": "stream",
          "text": [
            "Training cost after epoch 1: loss:5.022256 acc: 0.967 auc: 1.000 auprc: 0.977\n"
          ]
        },
        {
          "name": "stderr",
          "output_type": "stream",
          "text": [
            "/home/eecs/cergen/anaconda3/envs/PopV/lib/python3.8/site-packages/numpy/lib/nanfunctions.py:1119: RuntimeWarning: All-NaN slice encountered\n",
            "  r, k = function_base._ureduce(a, func=_nanmedian, axis=axis, out=out,\n"
          ]
        },
        {
          "name": "stdout",
          "output_type": "stream",
          "text": [
            "Training cost after epoch 2: loss:2.310894 acc: 0.985 auc: 1.000 auprc: 0.998\n"
          ]
        },
        {
          "name": "stderr",
          "output_type": "stream",
          "text": [
            "/home/eecs/cergen/anaconda3/envs/PopV/lib/python3.8/site-packages/numpy/lib/nanfunctions.py:1119: RuntimeWarning: All-NaN slice encountered\n",
            "  r, k = function_base._ureduce(a, func=_nanmedian, axis=axis, out=out,\n"
          ]
        },
        {
          "name": "stdout",
          "output_type": "stream",
          "text": [
            "Training cost after epoch 3: loss:1.490944 acc: 0.988 auc: 1.000 auprc: 1.000\n"
          ]
        },
        {
          "name": "stderr",
          "output_type": "stream",
          "text": [
            "/home/eecs/cergen/anaconda3/envs/PopV/lib/python3.8/site-packages/numpy/lib/nanfunctions.py:1119: RuntimeWarning: All-NaN slice encountered\n",
            "  r, k = function_base._ureduce(a, func=_nanmedian, axis=axis, out=out,\n"
          ]
        },
        {
          "name": "stdout",
          "output_type": "stream",
          "text": [
            "Training cost after epoch 4: loss:1.049421 acc: 0.994 auc: 1.000 auprc: 1.000\n"
          ]
        },
        {
          "name": "stderr",
          "output_type": "stream",
          "text": [
            "/home/eecs/cergen/anaconda3/envs/PopV/lib/python3.8/site-packages/numpy/lib/nanfunctions.py:1119: RuntimeWarning: All-NaN slice encountered\n",
            "  r, k = function_base._ureduce(a, func=_nanmedian, axis=axis, out=out,\n"
          ]
        },
        {
          "name": "stdout",
          "output_type": "stream",
          "text": [
            "Training cost after epoch 5: loss:0.761100 acc: 0.997 auc: 1.000 auprc: 1.000\n"
          ]
        },
        {
          "name": "stderr",
          "output_type": "stream",
          "text": [
            "/home/eecs/cergen/anaconda3/envs/PopV/lib/python3.8/site-packages/numpy/lib/nanfunctions.py:1119: RuntimeWarning: All-NaN slice encountered\n",
            "  r, k = function_base._ureduce(a, func=_nanmedian, axis=axis, out=out,\n"
          ]
        },
        {
          "name": "stdout",
          "output_type": "stream",
          "text": [
            "Training cost after epoch 6: loss:0.567753 acc: 0.996 auc: 1.000 auprc: 1.000\n"
          ]
        },
        {
          "name": "stderr",
          "output_type": "stream",
          "text": [
            "/home/eecs/cergen/anaconda3/envs/PopV/lib/python3.8/site-packages/numpy/lib/nanfunctions.py:1119: RuntimeWarning: All-NaN slice encountered\n",
            "  r, k = function_base._ureduce(a, func=_nanmedian, axis=axis, out=out,\n"
          ]
        },
        {
          "name": "stdout",
          "output_type": "stream",
          "text": [
            "Training cost after epoch 7: loss:0.437389 acc: 0.997 auc: 1.000 auprc: 1.000\n"
          ]
        },
        {
          "name": "stderr",
          "output_type": "stream",
          "text": [
            "/home/eecs/cergen/anaconda3/envs/PopV/lib/python3.8/site-packages/numpy/lib/nanfunctions.py:1119: RuntimeWarning: All-NaN slice encountered\n",
            "  r, k = function_base._ureduce(a, func=_nanmedian, axis=axis, out=out,\n"
          ]
        },
        {
          "name": "stdout",
          "output_type": "stream",
          "text": [
            "Training cost after epoch 8: loss:0.348742 acc: 0.996 auc: 1.000 auprc: 1.000\n"
          ]
        },
        {
          "name": "stderr",
          "output_type": "stream",
          "text": [
            "/home/eecs/cergen/anaconda3/envs/PopV/lib/python3.8/site-packages/numpy/lib/nanfunctions.py:1119: RuntimeWarning: All-NaN slice encountered\n",
            "  r, k = function_base._ureduce(a, func=_nanmedian, axis=axis, out=out,\n"
          ]
        },
        {
          "name": "stdout",
          "output_type": "stream",
          "text": [
            "Training cost after epoch 9: loss:0.287112 acc: 0.998 auc: 1.000 auprc: 1.000\n"
          ]
        },
        {
          "name": "stderr",
          "output_type": "stream",
          "text": [
            "/home/eecs/cergen/anaconda3/envs/PopV/lib/python3.8/site-packages/numpy/lib/nanfunctions.py:1119: RuntimeWarning: All-NaN slice encountered\n",
            "  r, k = function_base._ureduce(a, func=_nanmedian, axis=axis, out=out,\n"
          ]
        },
        {
          "name": "stdout",
          "output_type": "stream",
          "text": [
            "Training cost after epoch 10: loss:0.244858 acc: 0.997 auc: 1.000 auprc: 1.000\n"
          ]
        },
        {
          "name": "stderr",
          "output_type": "stream",
          "text": [
            "/home/eecs/cergen/anaconda3/envs/PopV/lib/python3.8/site-packages/numpy/lib/nanfunctions.py:1119: RuntimeWarning: All-NaN slice encountered\n",
            "  r, k = function_base._ureduce(a, func=_nanmedian, axis=axis, out=out,\n"
          ]
        },
        {
          "name": "stdout",
          "output_type": "stream",
          "text": [
            "Training cost after epoch 11: loss:0.210923 acc: 0.997 auc: 1.000 auprc: 1.000\n"
          ]
        },
        {
          "name": "stderr",
          "output_type": "stream",
          "text": [
            "/home/eecs/cergen/anaconda3/envs/PopV/lib/python3.8/site-packages/numpy/lib/nanfunctions.py:1119: RuntimeWarning: All-NaN slice encountered\n",
            "  r, k = function_base._ureduce(a, func=_nanmedian, axis=axis, out=out,\n"
          ]
        },
        {
          "name": "stdout",
          "output_type": "stream",
          "text": [
            "Training cost after epoch 12: loss:0.188539 acc: 0.996 auc: 1.000 auprc: 1.000\n"
          ]
        },
        {
          "name": "stderr",
          "output_type": "stream",
          "text": [
            "/home/eecs/cergen/anaconda3/envs/PopV/lib/python3.8/site-packages/numpy/lib/nanfunctions.py:1119: RuntimeWarning: All-NaN slice encountered\n",
            "  r, k = function_base._ureduce(a, func=_nanmedian, axis=axis, out=out,\n"
          ]
        },
        {
          "name": "stdout",
          "output_type": "stream",
          "text": [
            "Training cost after epoch 13: loss:0.171882 acc: 0.997 auc: 1.000 auprc: 1.000\n"
          ]
        },
        {
          "name": "stderr",
          "output_type": "stream",
          "text": [
            "/home/eecs/cergen/anaconda3/envs/PopV/lib/python3.8/site-packages/numpy/lib/nanfunctions.py:1119: RuntimeWarning: All-NaN slice encountered\n",
            "  r, k = function_base._ureduce(a, func=_nanmedian, axis=axis, out=out,\n"
          ]
        },
        {
          "name": "stdout",
          "output_type": "stream",
          "text": [
            "Training cost after epoch 14: loss:0.157610 acc: 0.993 auc: 1.000 auprc: 1.000\n"
          ]
        },
        {
          "name": "stderr",
          "output_type": "stream",
          "text": [
            "/home/eecs/cergen/anaconda3/envs/PopV/lib/python3.8/site-packages/numpy/lib/nanfunctions.py:1119: RuntimeWarning: All-NaN slice encountered\n",
            "  r, k = function_base._ureduce(a, func=_nanmedian, axis=axis, out=out,\n"
          ]
        },
        {
          "name": "stdout",
          "output_type": "stream",
          "text": [
            "Training cost after epoch 15: loss:0.154080 acc: 0.997 auc: 1.000 auprc: 1.000\n"
          ]
        },
        {
          "name": "stderr",
          "output_type": "stream",
          "text": [
            "/home/eecs/cergen/anaconda3/envs/PopV/lib/python3.8/site-packages/numpy/lib/nanfunctions.py:1119: RuntimeWarning: All-NaN slice encountered\n",
            "  r, k = function_base._ureduce(a, func=_nanmedian, axis=axis, out=out,\n"
          ]
        },
        {
          "name": "stdout",
          "output_type": "stream",
          "text": [
            "Training cost after epoch 16: loss:0.145624 acc: 0.993 auc: 1.000 auprc: 1.000\n"
          ]
        },
        {
          "name": "stderr",
          "output_type": "stream",
          "text": [
            "/home/eecs/cergen/anaconda3/envs/PopV/lib/python3.8/site-packages/numpy/lib/nanfunctions.py:1119: RuntimeWarning: All-NaN slice encountered\n",
            "  r, k = function_base._ureduce(a, func=_nanmedian, axis=axis, out=out,\n"
          ]
        },
        {
          "name": "stdout",
          "output_type": "stream",
          "text": [
            "Training cost after epoch 17: loss:0.144323 acc: 0.994 auc: 1.000 auprc: 1.000\n"
          ]
        },
        {
          "name": "stderr",
          "output_type": "stream",
          "text": [
            "/home/eecs/cergen/anaconda3/envs/PopV/lib/python3.8/site-packages/numpy/lib/nanfunctions.py:1119: RuntimeWarning: All-NaN slice encountered\n",
            "  r, k = function_base._ureduce(a, func=_nanmedian, axis=axis, out=out,\n"
          ]
        },
        {
          "name": "stdout",
          "output_type": "stream",
          "text": [
            "Training cost after epoch 18: loss:0.137638 acc: 0.999 auc: 1.000 auprc: 1.000\n"
          ]
        },
        {
          "name": "stderr",
          "output_type": "stream",
          "text": [
            "/home/eecs/cergen/anaconda3/envs/PopV/lib/python3.8/site-packages/numpy/lib/nanfunctions.py:1119: RuntimeWarning: All-NaN slice encountered\n",
            "  r, k = function_base._ureduce(a, func=_nanmedian, axis=axis, out=out,\n"
          ]
        },
        {
          "name": "stdout",
          "output_type": "stream",
          "text": [
            "Training cost after epoch 19: loss:0.133389 acc: 0.992 auc: 1.000 auprc: 1.000\n"
          ]
        },
        {
          "name": "stderr",
          "output_type": "stream",
          "text": [
            "/home/eecs/cergen/anaconda3/envs/PopV/lib/python3.8/site-packages/numpy/lib/nanfunctions.py:1119: RuntimeWarning: All-NaN slice encountered\n",
            "  r, k = function_base._ureduce(a, func=_nanmedian, axis=axis, out=out,\n"
          ]
        },
        {
          "name": "stdout",
          "output_type": "stream",
          "text": [
            "Training cost after epoch 20: loss:0.133502 acc: 0.994 auc: 1.000 auprc: 1.000\n"
          ]
        },
        {
          "name": "stderr",
          "output_type": "stream",
          "text": [
            "/home/eecs/cergen/anaconda3/envs/PopV/lib/python3.8/site-packages/numpy/lib/nanfunctions.py:1119: RuntimeWarning: All-NaN slice encountered\n",
            "  r, k = function_base._ureduce(a, func=_nanmedian, axis=axis, out=out,\n"
          ]
        },
        {
          "name": "stdout",
          "output_type": "stream",
          "text": [
            "Training cost after epoch 21: loss:0.131692 acc: 0.996 auc: 1.000 auprc: 1.000\n"
          ]
        },
        {
          "name": "stderr",
          "output_type": "stream",
          "text": [
            "/home/eecs/cergen/anaconda3/envs/PopV/lib/python3.8/site-packages/numpy/lib/nanfunctions.py:1119: RuntimeWarning: All-NaN slice encountered\n",
            "  r, k = function_base._ureduce(a, func=_nanmedian, axis=axis, out=out,\n"
          ]
        },
        {
          "name": "stdout",
          "output_type": "stream",
          "text": [
            "Training cost after epoch 22: loss:0.129660 acc: 0.997 auc: 1.000 auprc: 1.000\n"
          ]
        },
        {
          "name": "stderr",
          "output_type": "stream",
          "text": [
            "/home/eecs/cergen/anaconda3/envs/PopV/lib/python3.8/site-packages/numpy/lib/nanfunctions.py:1119: RuntimeWarning: All-NaN slice encountered\n",
            "  r, k = function_base._ureduce(a, func=_nanmedian, axis=axis, out=out,\n"
          ]
        },
        {
          "name": "stdout",
          "output_type": "stream",
          "text": [
            "Training cost after epoch 23: loss:0.130685 acc: 0.996 auc: 1.000 auprc: 1.000\n"
          ]
        },
        {
          "name": "stderr",
          "output_type": "stream",
          "text": [
            "/home/eecs/cergen/anaconda3/envs/PopV/lib/python3.8/site-packages/numpy/lib/nanfunctions.py:1119: RuntimeWarning: All-NaN slice encountered\n",
            "  r, k = function_base._ureduce(a, func=_nanmedian, axis=axis, out=out,\n"
          ]
        },
        {
          "name": "stdout",
          "output_type": "stream",
          "text": [
            "Training cost after epoch 24: loss:0.128860 acc: 0.996 auc: 1.000 auprc: 1.000\n"
          ]
        },
        {
          "name": "stderr",
          "output_type": "stream",
          "text": [
            "/home/eecs/cergen/anaconda3/envs/PopV/lib/python3.8/site-packages/numpy/lib/nanfunctions.py:1119: RuntimeWarning: All-NaN slice encountered\n",
            "  r, k = function_base._ureduce(a, func=_nanmedian, axis=axis, out=out,\n"
          ]
        },
        {
          "name": "stdout",
          "output_type": "stream",
          "text": [
            "Training cost after epoch 25: loss:0.126765 acc: 0.995 auc: 1.000 auprc: 1.000\n"
          ]
        },
        {
          "name": "stderr",
          "output_type": "stream",
          "text": [
            "/home/eecs/cergen/anaconda3/envs/PopV/lib/python3.8/site-packages/numpy/lib/nanfunctions.py:1119: RuntimeWarning: All-NaN slice encountered\n",
            "  r, k = function_base._ureduce(a, func=_nanmedian, axis=axis, out=out,\n"
          ]
        },
        {
          "name": "stdout",
          "output_type": "stream",
          "text": [
            "Training cost after epoch 26: loss:0.128488 acc: 0.997 auc: 1.000 auprc: 1.000\n"
          ]
        },
        {
          "name": "stderr",
          "output_type": "stream",
          "text": [
            "/home/eecs/cergen/anaconda3/envs/PopV/lib/python3.8/site-packages/numpy/lib/nanfunctions.py:1119: RuntimeWarning: All-NaN slice encountered\n",
            "  r, k = function_base._ureduce(a, func=_nanmedian, axis=axis, out=out,\n"
          ]
        },
        {
          "name": "stdout",
          "output_type": "stream",
          "text": [
            "Training cost after epoch 27: loss:0.125904 acc: 0.997 auc: 1.000 auprc: 1.000\n"
          ]
        },
        {
          "name": "stderr",
          "output_type": "stream",
          "text": [
            "/home/eecs/cergen/anaconda3/envs/PopV/lib/python3.8/site-packages/numpy/lib/nanfunctions.py:1119: RuntimeWarning: All-NaN slice encountered\n",
            "  r, k = function_base._ureduce(a, func=_nanmedian, axis=axis, out=out,\n"
          ]
        },
        {
          "name": "stdout",
          "output_type": "stream",
          "text": [
            "Training cost after epoch 28: loss:0.123982 acc: 0.998 auc: 1.000 auprc: 1.000\n"
          ]
        },
        {
          "name": "stderr",
          "output_type": "stream",
          "text": [
            "/home/eecs/cergen/anaconda3/envs/PopV/lib/python3.8/site-packages/numpy/lib/nanfunctions.py:1119: RuntimeWarning: All-NaN slice encountered\n",
            "  r, k = function_base._ureduce(a, func=_nanmedian, axis=axis, out=out,\n"
          ]
        },
        {
          "name": "stdout",
          "output_type": "stream",
          "text": [
            "Training cost after epoch 29: loss:0.126144 acc: 0.997 auc: 1.000 auprc: 1.000\n"
          ]
        },
        {
          "name": "stderr",
          "output_type": "stream",
          "text": [
            "/home/eecs/cergen/anaconda3/envs/PopV/lib/python3.8/site-packages/numpy/lib/nanfunctions.py:1119: RuntimeWarning: All-NaN slice encountered\n",
            "  r, k = function_base._ureduce(a, func=_nanmedian, axis=axis, out=out,\n"
          ]
        },
        {
          "name": "stdout",
          "output_type": "stream",
          "text": [
            "Training cost after epoch 30: loss:0.122135 acc: 0.998 auc: 1.000 auprc: 1.000\n"
          ]
        },
        {
          "name": "stderr",
          "output_type": "stream",
          "text": [
            "/home/eecs/cergen/anaconda3/envs/PopV/lib/python3.8/site-packages/numpy/lib/nanfunctions.py:1119: RuntimeWarning: All-NaN slice encountered\n",
            "  r, k = function_base._ureduce(a, func=_nanmedian, axis=axis, out=out,\n",
            "/home/eecs/cergen/anaconda3/envs/PopV/lib/python3.8/site-packages/scvi/model/base/_training_mixin.py:60: UserWarning: max_epochs=18 is less than n_epochs_kl_warmup=20. The max_kl_weight will not be reached during training.\n",
            "  warnings.warn(\n"
          ]
        },
        {
          "name": "stdout",
          "output_type": "stream",
          "text": [
            "Epoch 18/18: 100%|██████████| 18/18 [04:51<00:00, 16.21s/it, loss=1.67e+03, v_num=1]\n",
            "\u001b[34mINFO    \u001b[0m Training for \u001b[1;36m20\u001b[0m epochs.                                                                                   \n",
            "Epoch 20/20: 100%|██████████| 20/20 [03:58<00:00, 11.94s/it, loss=1.79e+03, v_num=1]\n"
          ]
        }
      ],
      "source": [
        "from popv.annotation import annotate_data\n",
        "\n",
        "annotate_data(adata, save_path=save_folder)"
      ]
    },
    {
      "cell_type": "markdown",
      "id": "6SW5v-4swGWm",
      "metadata": {
        "id": "6SW5v-4swGWm"
      },
      "source": [
        "\n",
        "# Optional: save the full anndata will all objects"
      ]
    },
    {
      "cell_type": "code",
      "execution_count": 14,
      "id": "fbb3e02b",
      "metadata": {},
      "outputs": [
        {
          "data": {
            "text/plain": [
              "AnnData object with n_obs × n_vars = 110753 × 4000\n",
              "    obs: '10X_run', 'pilot', 'tissue', 'subtissue', 'method', '10X_sample', '10X_replicate', 'notes', 'seqrun', 'donor', 'anatomical_position', '10X_barcode', 'cDNAplate', 'libraryplate', 'well', 'donor_method', 'computational_compartment_assignment', 'tissue_cell_type', 'cell_type_tissue', 'cell_ontology_class', 'free_annotation', 'manually_annotated', 'compartment', '_batch_annotation', '_labels_annotation', '_ref_subsample', 'cell_ontology_type', 'cell_ontology_id', '_dataset', 'n_counts', 'popv_knn_on_bbknn_prediction', 'popv_knn_on_scanorama_prediction', '_scvi_batch', '_scvi_labels', 'popv_knn_on_scvi_prediction', '_labels_annotation_cell_ontology_id', 'popv_onclass_prediction', 'popv_rf_prediction', 'subsampled_labels', 'popv_scanvi_prediction', 'popv_svm_prediction', 'popv_majority_vote_prediction', 'popv_majority_vote_score', 'popv_prediction', 'popv_prediction_score', 'popv_prediction_depth'\n",
              "    var: 'n_counts', 'highly_variable', 'mean', 'std'\n",
              "    uns: 'Filtered_cells', 'log1p', 'pca', 'unknown_celltype_label', '_pretrained_scvi_path', '_pretrained_scanvi_path', '_pretrained_onclass_path', '_cl_obo_file', '_cl_ontology_file', '_nlp_emb_file', '_use_gpu', 'neighbors', '_scvi_uuid', '_scvi_manager_uuid', 'prediction_keys'\n",
              "    obsm: 'X_pca', 'X_scvi', 'X_scvi_umap', 'X_umap', 'X_bbknn_umap_popv', 'X_scanorama', 'X_scanorama_umap_popv', 'X_scvi_umap_popv', 'X_scanvi', 'X_scanvi_umap_popv'\n",
              "    varm: 'PCs'\n",
              "    layers: 'scvi_counts', 'logcounts'\n",
              "    obsp: 'distances', 'connectivities'"
            ]
          },
          "execution_count": 14,
          "metadata": {},
          "output_type": "execute_result"
        }
      ],
      "source": [
        "adata"
      ]
    },
    {
      "cell_type": "code",
      "execution_count": 15,
      "id": "7mZ7I9z_v2WM",
      "metadata": {
        "id": "7mZ7I9z_v2WM"
      },
      "outputs": [],
      "source": [
        "# adata.write('query_and_reference_popv.h5ad')"
      ]
    },
    {
      "cell_type": "code",
      "execution_count": 16,
      "id": "785edca6",
      "metadata": {},
      "outputs": [],
      "source": [
        "adata.obsm['X_umap'] = adata.obsm['X_bbknn_umap_popv']\n",
        "\n",
        "sc.pl.umap(adata,\n",
        "           color=['popv_prediction', 'popv_scanvi_prediction', 'cell_ontology_type'], ncols=1)"
      ]
    },
    {
      "cell_type": "code",
      "execution_count": null,
      "id": "92003fe9",
      "metadata": {},
      "outputs": [
        {
          "ename": "",
          "evalue": "",
          "output_type": "error",
          "traceback": [
            "\u001b[1;31mFailed to start the Kernel. \n",
            "\u001b[1;31mOSError: [Errno 28] No space left on device. \n",
            "\u001b[1;31mView Jupyter <a href='command:jupyter.viewOutput'>log</a> for further details."
          ]
        }
      ],
      "source": [
        "adata.obsm['X_umap'] = adata.obsm['X_scanvi_umap_popv']\n",
        "\n",
        "sc.pl.umap(adata,\n",
        "           color=['popv_prediction', 'popv_scanvi_prediction', 'cell_ontology_type'], ncols=1)"
      ]
    },
    {
      "cell_type": "markdown",
      "id": "be872076-2fb5-4b41-bc00-70dc93f9d647",
      "metadata": {
        "id": "be872076-2fb5-4b41-bc00-70dc93f9d647"
      },
      "source": [
        "# Step 6: Summary Statistics"
      ]
    },
    {
      "cell_type": "code",
      "execution_count": null,
      "id": "8632ea25-66a2-4845-938b-2559aede3402",
      "metadata": {
        "id": "8632ea25-66a2-4845-938b-2559aede3402"
      },
      "outputs": [
        {
          "ename": "",
          "evalue": "",
          "output_type": "error",
          "traceback": [
            "\u001b[1;31mFailed to start the Kernel. \n",
            "\u001b[1;31mOSError: [Errno 28] No space left on device. \n",
            "\u001b[1;31mView Jupyter <a href='command:jupyter.viewOutput'>log</a> for further details."
          ]
        }
      ],
      "source": [
        "popv.visualization.make_agreement_plots(adata, prediction_keys=adata.uns['prediction_keys'], save_folder=save_folder)"
      ]
    },
    {
      "cell_type": "code",
      "execution_count": null,
      "id": "2e291269",
      "metadata": {},
      "outputs": [
        {
          "ename": "",
          "evalue": "",
          "output_type": "error",
          "traceback": [
            "\u001b[1;31mFailed to start the Kernel. \n",
            "\u001b[1;31mOSError: [Errno 28] No space left on device. \n",
            "\u001b[1;31mView Jupyter <a href='command:jupyter.viewOutput'>log</a> for further details."
          ]
        }
      ],
      "source": [
        "adata"
      ]
    },
    {
      "cell_type": "code",
      "execution_count": null,
      "id": "hC54t3wNJlUB",
      "metadata": {
        "id": "hC54t3wNJlUB"
      },
      "outputs": [
        {
          "ename": "",
          "evalue": "",
          "output_type": "error",
          "traceback": [
            "\u001b[1;31mFailed to start the Kernel. \n",
            "\u001b[1;31mOSError: [Errno 28] No space left on device. \n",
            "\u001b[1;31mView Jupyter <a href='command:jupyter.viewOutput'>log</a> for further details."
          ]
        }
      ],
      "source": [
        "adata.obs['subsampled_labels'].value_counts()"
      ]
    },
    {
      "cell_type": "code",
      "execution_count": null,
      "id": "pNV2VrjM2mjj",
      "metadata": {
        "id": "pNV2VrjM2mjj"
      },
      "outputs": [
        {
          "ename": "",
          "evalue": "",
          "output_type": "error",
          "traceback": [
            "\u001b[1;31mFailed to start the Kernel. \n",
            "\u001b[1;31mOSError: [Errno 28] No space left on device. \n",
            "\u001b[1;31mView Jupyter <a href='command:jupyter.viewOutput'>log</a> for further details."
          ]
        }
      ],
      "source": [
        "popv.visualization.prediction_score_bar_plot(adata, popv_prediction_score=\"popv_prediction_depth\")"
      ]
    },
    {
      "cell_type": "code",
      "execution_count": null,
      "id": "Syp_KoY_qRDy",
      "metadata": {
        "id": "Syp_KoY_qRDy"
      },
      "outputs": [
        {
          "ename": "",
          "evalue": "",
          "output_type": "error",
          "traceback": [
            "\u001b[1;31mFailed to start the Kernel. \n",
            "\u001b[1;31mOSError: [Errno 28] No space left on device. \n",
            "\u001b[1;31mView Jupyter <a href='command:jupyter.viewOutput'>log</a> for further details."
          ]
        }
      ],
      "source": [
        "popv.visualization.prediction_score_bar_plot(adata, popv_prediction_score=\"popv_prediction_score\")"
      ]
    },
    {
      "cell_type": "code",
      "execution_count": null,
      "id": "J12TFk3cqYfR",
      "metadata": {
        "id": "J12TFk3cqYfR"
      },
      "outputs": [
        {
          "ename": "",
          "evalue": "",
          "output_type": "error",
          "traceback": [
            "\u001b[1;31mFailed to start the Kernel. \n",
            "\u001b[1;31mOSError: [Errno 28] No space left on device. \n",
            "\u001b[1;31mView Jupyter <a href='command:jupyter.viewOutput'>log</a> for further details."
          ]
        }
      ],
      "source": [
        "popv.visualization.agreement_score_bar_plot(adata)"
      ]
    },
    {
      "cell_type": "markdown",
      "id": "3AAB19Nvq2CF",
      "metadata": {
        "id": "3AAB19Nvq2CF"
      },
      "source": [
        "### Cell type proportion plot"
      ]
    },
    {
      "cell_type": "code",
      "execution_count": null,
      "id": "QICg6X5FrmfY",
      "metadata": {
        "id": "QICg6X5FrmfY"
      },
      "outputs": [
        {
          "ename": "",
          "evalue": "",
          "output_type": "error",
          "traceback": [
            "\u001b[1;31mFailed to start the Kernel. \n",
            "\u001b[1;31mOSError: [Errno 28] No space left on device. \n",
            "\u001b[1;31mView Jupyter <a href='command:jupyter.viewOutput'>log</a> for further details."
          ]
        }
      ],
      "source": [
        "popv.visualization.celltype_ratio_bar_plot(adata)"
      ]
    }
  ],
  "metadata": {
    "accelerator": "GPU",
    "colab": {
      "machine_shape": "hm",
      "private_outputs": true,
      "provenance": []
    },
    "gpuClass": "standard",
    "kernelspec": {
      "display_name": "PopV",
      "language": "python",
      "name": "python3"
    },
    "language_info": {
      "codemirror_mode": {
        "name": "ipython",
        "version": 3
      },
      "file_extension": ".py",
      "mimetype": "text/x-python",
      "name": "python",
      "nbconvert_exporter": "python",
      "pygments_lexer": "ipython3",
      "version": "3.8.15"
    },
    "vscode": {
      "interpreter": {
        "hash": "ae9b7835f8811f2422472b7a077be27a1569af3ecea40a1678b81babec34df9c"
      }
    }
  },
  "nbformat": 4,
  "nbformat_minor": 5
}
